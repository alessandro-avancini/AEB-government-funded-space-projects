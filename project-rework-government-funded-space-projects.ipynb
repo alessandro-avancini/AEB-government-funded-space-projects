{
 "cells": [
  {
   "cell_type": "markdown",
   "id": "189370cc",
   "metadata": {},
   "source": [
    "# Government Funding Space Projects - FAPESP"
   ]
  },
  {
   "cell_type": "markdown",
   "id": "c7e50f6b",
   "metadata": {},
   "source": [
    "While at AEB, I was tasked to study and analyze the open library of projects funded by FAPESP, an institution from the state of São Paulo that provide funds to scientific research to universities and companies, so that the agency could start drafting a proposal of partnership with them.\n",
    "\n",
    "So, in this work, I perform an EDA of the data available at their open library, in order to provide insights and rationale for the best course of action AEB could take regarding FAPESP"
   ]
  },
  {
   "cell_type": "markdown",
   "id": "418b12c8",
   "metadata": {},
   "source": [
    "## Initializing the code"
   ]
  },
  {
   "cell_type": "markdown",
   "id": "26932a9e",
   "metadata": {},
   "source": [
    "first things first, the tools we'll be using througout the work need to be imported to the workspace. In this case we'll be using _Pandas_ for data manipulation and mostly _Matplotlib_ for graphic generation and visualization"
   ]
  },
  {
   "cell_type": "code",
   "execution_count": 1,
   "id": "0f0ce127",
   "metadata": {},
   "outputs": [],
   "source": [
    "import pandas as pd\n",
    "import matplotlib.pyplot as plt"
   ]
  },
  {
   "cell_type": "markdown",
   "id": "14da2610",
   "metadata": {},
   "source": [
    "And also open the dataset"
   ]
  },
  {
   "cell_type": "code",
   "execution_count": 4,
   "id": "91cf6241",
   "metadata": {},
   "outputs": [],
   "source": [
    "dataset = pd.read_excel('dataset-space-projects.xlsx')"
   ]
  },
  {
   "cell_type": "markdown",
   "id": "a90f05ac",
   "metadata": {},
   "source": [
    "## Visualizing the Dataset"
   ]
  },
  {
   "cell_type": "markdown",
   "id": "1e068988",
   "metadata": {},
   "source": [
    "To start the analysis, let's take an overview look at the dataframe."
   ]
  },
  {
   "cell_type": "code",
   "execution_count": 6,
   "id": "ed9ebb56",
   "metadata": {},
   "outputs": [
    {
     "data": {
      "text/html": [
       "<div>\n",
       "<style scoped>\n",
       "    .dataframe tbody tr th:only-of-type {\n",
       "        vertical-align: middle;\n",
       "    }\n",
       "\n",
       "    .dataframe tbody tr th {\n",
       "        vertical-align: top;\n",
       "    }\n",
       "\n",
       "    .dataframe thead th {\n",
       "        text-align: right;\n",
       "    }\n",
       "</style>\n",
       "<table border=\"1\" class=\"dataframe\">\n",
       "  <thead>\n",
       "    <tr style=\"text-align: right;\">\n",
       "      <th></th>\n",
       "      <th>N. Processo</th>\n",
       "      <th>Título (Português)</th>\n",
       "      <th>Título (Inglês)</th>\n",
       "      <th>Beneficiário</th>\n",
       "      <th>Instituição</th>\n",
       "      <th>Cidade Instituição</th>\n",
       "      <th>Instituição Parceira</th>\n",
       "      <th>Empresa</th>\n",
       "      <th>Município</th>\n",
       "      <th>Pesquisador Responsável</th>\n",
       "      <th>...</th>\n",
       "      <th>Data de Início</th>\n",
       "      <th>Data de Término</th>\n",
       "      <th>Acordo(s)/Convênio(s) de Cooperação com a FAPESP</th>\n",
       "      <th>Instituições no Exterior</th>\n",
       "      <th>País (Instituições no Exterior)</th>\n",
       "      <th>Pesquisador responsável no exterior</th>\n",
       "      <th>Resumo (Português)</th>\n",
       "      <th>Resumo (Inglês)</th>\n",
       "      <th>Processos Vinculados</th>\n",
       "      <th>Unnamed: 30</th>\n",
       "    </tr>\n",
       "  </thead>\n",
       "  <tbody>\n",
       "    <tr>\n",
       "      <th>0</th>\n",
       "      <td>21/12066-2</td>\n",
       "      <td>Desenvolvimento de Bateria Aeronáutica Modular...</td>\n",
       "      <td>Development of High-performance Modular Aerona...</td>\n",
       "      <td>Arthur Roza Augusto</td>\n",
       "      <td>NaN</td>\n",
       "      <td>NaN</td>\n",
       "      <td>NaN</td>\n",
       "      <td>NaN</td>\n",
       "      <td>NaN</td>\n",
       "      <td>Arthur Roza Augusto</td>\n",
       "      <td>...</td>\n",
       "      <td>2022-03-01</td>\n",
       "      <td>2024-02-29</td>\n",
       "      <td>NaN</td>\n",
       "      <td>NaN</td>\n",
       "      <td>NaN</td>\n",
       "      <td>NaN</td>\n",
       "      <td>Atualmente, aeronaves modernas e a segurança d...</td>\n",
       "      <td>Today, modern aircraft and flight safety are c...</td>\n",
       "      <td>21/15032-1</td>\n",
       "      <td></td>\n",
       "    </tr>\n",
       "    <tr>\n",
       "      <th>1</th>\n",
       "      <td>20/13779-0</td>\n",
       "      <td>Máscara de furação aeronáutica reconfigurável ...</td>\n",
       "      <td>Numerical control drill jig</td>\n",
       "      <td>Glauber Lopes Mosqueira</td>\n",
       "      <td>NaN</td>\n",
       "      <td>NaN</td>\n",
       "      <td>NaN</td>\n",
       "      <td>Electroimpact do Brasil Indústria Aeroespacial...</td>\n",
       "      <td>Jacareí</td>\n",
       "      <td>Glauber Lopes Mosqueira</td>\n",
       "      <td>...</td>\n",
       "      <td>2021-12-01</td>\n",
       "      <td>2023-07-31</td>\n",
       "      <td>NaN</td>\n",
       "      <td>NaN</td>\n",
       "      <td>NaN</td>\n",
       "      <td>NaN</td>\n",
       "      <td>Máscaras de furação são o instrumento mais com...</td>\n",
       "      <td>Drill jigs are the most common tools used in t...</td>\n",
       "      <td>NaN</td>\n",
       "      <td></td>\n",
       "    </tr>\n",
       "    <tr>\n",
       "      <th>2</th>\n",
       "      <td>20/05837-0</td>\n",
       "      <td>Desenvolvimento de um transceptor UHF/VHF para...</td>\n",
       "      <td>Transceiver UHF/VHF for TT&amp;C subsystems of a c...</td>\n",
       "      <td>Marcelo Henrique Essado de Morais</td>\n",
       "      <td>NaN</td>\n",
       "      <td>NaN</td>\n",
       "      <td>NaN</td>\n",
       "      <td>Essado de Morais Ltda. - ME</td>\n",
       "      <td>Franca</td>\n",
       "      <td>Marcelo Henrique Essado de Morais</td>\n",
       "      <td>...</td>\n",
       "      <td>2021-06-01</td>\n",
       "      <td>2022-02-28</td>\n",
       "      <td>NaN</td>\n",
       "      <td>NaN</td>\n",
       "      <td>NaN</td>\n",
       "      <td>NaN</td>\n",
       "      <td>Desenvolvimento de um transceptor VHF e UHF fu...</td>\n",
       "      <td>This document describes the Project Plan to de...</td>\n",
       "      <td>21/05993-4</td>\n",
       "      <td></td>\n",
       "    </tr>\n",
       "    <tr>\n",
       "      <th>3</th>\n",
       "      <td>21/05993-4</td>\n",
       "      <td>Desenvolvimento de um transceptor UHF/VHF para...</td>\n",
       "      <td>Transceiver UHF/VHF for TT&amp;C subsystems of a c...</td>\n",
       "      <td>Marcelo Henrique Essado de Morais</td>\n",
       "      <td>NaN</td>\n",
       "      <td>NaN</td>\n",
       "      <td>Essado de Morais Ltda. - ME</td>\n",
       "      <td>NaN</td>\n",
       "      <td>NaN</td>\n",
       "      <td>Marcelo Henrique Essado de Morais</td>\n",
       "      <td>...</td>\n",
       "      <td>2021-06-01</td>\n",
       "      <td>2022-02-28</td>\n",
       "      <td>NaN</td>\n",
       "      <td>NaN</td>\n",
       "      <td>NaN</td>\n",
       "      <td>NaN</td>\n",
       "      <td>Desenvolvimento de um transceptor VHF e UHF fu...</td>\n",
       "      <td>NaN</td>\n",
       "      <td>NaN</td>\n",
       "      <td></td>\n",
       "    </tr>\n",
       "    <tr>\n",
       "      <th>4</th>\n",
       "      <td>20/05902-6</td>\n",
       "      <td>Inspeção dimensional portátil de furos por mét...</td>\n",
       "      <td>Portable dimensional inspection for holes by T...</td>\n",
       "      <td>Fabio do Monte Sena</td>\n",
       "      <td>NaN</td>\n",
       "      <td>NaN</td>\n",
       "      <td>NaN</td>\n",
       "      <td>Lume Tecnologia Ltda</td>\n",
       "      <td>São José dos Campos</td>\n",
       "      <td>Fabio do Monte Sena</td>\n",
       "      <td>...</td>\n",
       "      <td>2021-04-01</td>\n",
       "      <td>2022-03-31</td>\n",
       "      <td>NaN</td>\n",
       "      <td>NaN</td>\n",
       "      <td>NaN</td>\n",
       "      <td>NaN</td>\n",
       "      <td>O volume de componentes, os requisitos dimensi...</td>\n",
       "      <td>The number of components, the dimensional requ...</td>\n",
       "      <td>21/02729-4; 21/02837-1; 21/03143-3; 21/08902-0</td>\n",
       "      <td></td>\n",
       "    </tr>\n",
       "  </tbody>\n",
       "</table>\n",
       "<p>5 rows × 31 columns</p>\n",
       "</div>"
      ],
      "text/plain": [
       "  N. Processo                                 Título (Português)  \\\n",
       "0  21/12066-2  Desenvolvimento de Bateria Aeronáutica Modular...   \n",
       "1  20/13779-0  Máscara de furação aeronáutica reconfigurável ...   \n",
       "2  20/05837-0  Desenvolvimento de um transceptor UHF/VHF para...   \n",
       "3  21/05993-4  Desenvolvimento de um transceptor UHF/VHF para...   \n",
       "4  20/05902-6  Inspeção dimensional portátil de furos por mét...   \n",
       "\n",
       "                                     Título (Inglês)  \\\n",
       "0  Development of High-performance Modular Aerona...   \n",
       "1                        Numerical control drill jig   \n",
       "2  Transceiver UHF/VHF for TT&C subsystems of a c...   \n",
       "3  Transceiver UHF/VHF for TT&C subsystems of a c...   \n",
       "4  Portable dimensional inspection for holes by T...   \n",
       "\n",
       "                        Beneficiário  Instituição  Cidade Instituição  \\\n",
       "0                Arthur Roza Augusto          NaN                 NaN   \n",
       "1            Glauber Lopes Mosqueira          NaN                 NaN   \n",
       "2  Marcelo Henrique Essado de Morais          NaN                 NaN   \n",
       "3  Marcelo Henrique Essado de Morais          NaN                 NaN   \n",
       "4                Fabio do Monte Sena          NaN                 NaN   \n",
       "\n",
       "          Instituição Parceira  \\\n",
       "0                          NaN   \n",
       "1                          NaN   \n",
       "2                          NaN   \n",
       "3  Essado de Morais Ltda. - ME   \n",
       "4                          NaN   \n",
       "\n",
       "                                             Empresa            Município  \\\n",
       "0                                                NaN                  NaN   \n",
       "1  Electroimpact do Brasil Indústria Aeroespacial...              Jacareí   \n",
       "2                        Essado de Morais Ltda. - ME               Franca   \n",
       "3                                                NaN                  NaN   \n",
       "4                               Lume Tecnologia Ltda  São José dos Campos   \n",
       "\n",
       "             Pesquisador Responsável  ... Data de Início Data de Término  \\\n",
       "0                Arthur Roza Augusto  ...     2022-03-01      2024-02-29   \n",
       "1            Glauber Lopes Mosqueira  ...     2021-12-01      2023-07-31   \n",
       "2  Marcelo Henrique Essado de Morais  ...     2021-06-01      2022-02-28   \n",
       "3  Marcelo Henrique Essado de Morais  ...     2021-06-01      2022-02-28   \n",
       "4                Fabio do Monte Sena  ...     2021-04-01      2022-03-31   \n",
       "\n",
       "   Acordo(s)/Convênio(s) de Cooperação com a FAPESP  Instituições no Exterior  \\\n",
       "0                                               NaN                       NaN   \n",
       "1                                               NaN                       NaN   \n",
       "2                                               NaN                       NaN   \n",
       "3                                               NaN                       NaN   \n",
       "4                                               NaN                       NaN   \n",
       "\n",
       "   País (Instituições no Exterior)  Pesquisador responsável no exterior  \\\n",
       "0                              NaN                                  NaN   \n",
       "1                              NaN                                  NaN   \n",
       "2                              NaN                                  NaN   \n",
       "3                              NaN                                  NaN   \n",
       "4                              NaN                                  NaN   \n",
       "\n",
       "                                  Resumo (Português)  \\\n",
       "0  Atualmente, aeronaves modernas e a segurança d...   \n",
       "1  Máscaras de furação são o instrumento mais com...   \n",
       "2  Desenvolvimento de um transceptor VHF e UHF fu...   \n",
       "3  Desenvolvimento de um transceptor VHF e UHF fu...   \n",
       "4  O volume de componentes, os requisitos dimensi...   \n",
       "\n",
       "                                     Resumo (Inglês)  \\\n",
       "0  Today, modern aircraft and flight safety are c...   \n",
       "1  Drill jigs are the most common tools used in t...   \n",
       "2  This document describes the Project Plan to de...   \n",
       "3                                                NaN   \n",
       "4  The number of components, the dimensional requ...   \n",
       "\n",
       "                             Processos Vinculados Unnamed: 30  \n",
       "0                                      21/15032-1              \n",
       "1                                             NaN              \n",
       "2                                      21/05993-4              \n",
       "3                                             NaN              \n",
       "4  21/02729-4; 21/02837-1; 21/03143-3; 21/08902-0              \n",
       "\n",
       "[5 rows x 31 columns]"
      ]
     },
     "execution_count": 6,
     "metadata": {},
     "output_type": "execute_result"
    }
   ],
   "source": [
    "dataset.head()"
   ]
  },
  {
   "cell_type": "code",
   "execution_count": 9,
   "id": "ab165ab1",
   "metadata": {},
   "outputs": [
    {
     "name": "stdout",
     "output_type": "stream",
     "text": [
      "<class 'pandas.core.frame.DataFrame'>\n",
      "RangeIndex: 208 entries, 0 to 207\n",
      "Data columns (total 31 columns):\n",
      " #   Column                                            Non-Null Count  Dtype         \n",
      "---  ------                                            --------------  -----         \n",
      " 0   N. Processo                                       208 non-null    object        \n",
      " 1   Título (Português)                                208 non-null    object        \n",
      " 2   Título (Inglês)                                   148 non-null    object        \n",
      " 3   Beneficiário                                      208 non-null    object        \n",
      " 4   Instituição                                       0 non-null      float64       \n",
      " 5   Cidade Instituição                                0 non-null      float64       \n",
      " 6   Instituição Parceira                              55 non-null     object        \n",
      " 7   Empresa                                           152 non-null    object        \n",
      " 8   Município                                         152 non-null    object        \n",
      " 9   Pesquisador Responsável                           208 non-null    object        \n",
      " 10  Pesquisadores Principais                          28 non-null     object        \n",
      " 11  Pesquisadores Associados                          32 non-null     object        \n",
      " 12  Supervisor                                        0 non-null      float64       \n",
      " 13  Local de Pesquisa                                 0 non-null      float64       \n",
      " 14  Pesquisador Visitante                             0 non-null      float64       \n",
      " 15  Instituição do Pesquisador Visitante              0 non-null      float64       \n",
      " 16  Linha de Fomento                                  208 non-null    object        \n",
      " 17  Grande Área do Conhecimento                       208 non-null    object        \n",
      " 18  Área do Conhecimento                              206 non-null    object        \n",
      " 19  Subárea do Conhecimento                           162 non-null    object        \n",
      " 20  Assuntos                                          208 non-null    object        \n",
      " 21  Data de Início                                    208 non-null    datetime64[ns]\n",
      " 22  Data de Término                                   208 non-null    datetime64[ns]\n",
      " 23  Acordo(s)/Convênio(s) de Cooperação com a FAPESP  45 non-null     object        \n",
      " 24  Instituições no Exterior                          3 non-null      object        \n",
      " 25  País (Instituições no Exterior)                   3 non-null      object        \n",
      " 26  Pesquisador responsável no exterior               3 non-null      object        \n",
      " 27  Resumo (Português)                                206 non-null    object        \n",
      " 28  Resumo (Inglês)                                   116 non-null    object        \n",
      " 29  Processos Vinculados                              79 non-null     object        \n",
      " 30  Unnamed: 30                                       208 non-null    object        \n",
      "dtypes: datetime64[ns](2), float64(6), object(23)\n",
      "memory usage: 50.5+ KB\n"
     ]
    }
   ],
   "source": [
    "dataset.info()"
   ]
  },
  {
   "cell_type": "markdown",
   "id": "533ab9fc",
   "metadata": {},
   "source": [
    "It is worth to say that this dataset contains all the projects related to aeroespace engeneering "
   ]
  },
  {
   "cell_type": "markdown",
   "id": "2d843c7c",
   "metadata": {},
   "source": [
    "## Searching for core space technology"
   ]
  },
  {
   "cell_type": "markdown",
   "id": "cc4b106b",
   "metadata": {},
   "source": [
    "One of the requirements of this project was that it must be focused in core space technology. The space sector is so general and relates to so many diferent fields that narrowing that scope was more than necessary. So, since we were looking for projects related to core space technology, the next thing I needed to do was to filter the dataframe based on this requirement.\n",
    "\n",
    "The strategy I adopted was to search for keywords related to the tech I was looking for in some descriptive columns"
   ]
  },
  {
   "cell_type": "code",
   "execution_count": 31,
   "id": "cecf1b55",
   "metadata": {
    "scrolled": true
   },
   "outputs": [],
   "source": [
    "keywords = ['lançador', 'satélite', 'foguete', 'inpe']\n",
    "contains_keyword_resumo = [any(keyword in description.lower() for keyword in keywords) for description in dataset['Resumo (Português)'].fillna('')]\n",
    "contains_keyword_assuntos = [any(keyword in description.lower() for keyword in keywords) for description in dataset['Assuntos'].fillna('')]\n",
    "\n",
    "#contains_keyword = []\n",
    "\n",
    "#dataset[contains_keyword]"
   ]
  },
  {
   "cell_type": "code",
   "execution_count": 33,
   "id": "62307246",
   "metadata": {},
   "outputs": [],
   "source": [
    "a = zip(contains_keyword_resumo, contains_keyword_assuntos)"
   ]
  },
  {
   "cell_type": "code",
   "execution_count": 36,
   "id": "17293c4e",
   "metadata": {
    "scrolled": true
   },
   "outputs": [
    {
     "name": "stdout",
     "output_type": "stream",
     "text": [
      "(False, False)\n",
      "0\n",
      "(False, False)\n",
      "0\n",
      "(False, False)\n",
      "0\n",
      "(False, False)\n",
      "0\n",
      "(False, True)\n",
      "1\n",
      "(True, True)\n",
      "2\n",
      "(True, True)\n",
      "2\n",
      "(False, False)\n",
      "0\n",
      "(True, True)\n",
      "2\n",
      "(True, True)\n",
      "2\n"
     ]
    }
   ],
   "source": [
    "for i, n in enumerate(a):\n",
    "    if i < 10:\n",
    "        print(n)\n",
    "        print(sum(n))\n",
    "    else:\n",
    "        break"
   ]
  },
  {
   "cell_type": "code",
   "execution_count": 39,
   "id": "e822c251",
   "metadata": {},
   "outputs": [
    {
     "ename": "TypeError",
     "evalue": "'bool' object is not iterable",
     "output_type": "error",
     "traceback": [
      "\u001b[1;31m---------------------------------------------------------------------------\u001b[0m",
      "\u001b[1;31mTypeError\u001b[0m                                 Traceback (most recent call last)",
      "Cell \u001b[1;32mIn[39], line 1\u001b[0m\n\u001b[1;32m----> 1\u001b[0m [\u001b[38;5;28;43many\u001b[39;49m\u001b[43m(\u001b[49m\u001b[38;5;28;43;01mTrue\u001b[39;49;00m\u001b[43m \u001b[49m\u001b[38;5;129;43;01min\u001b[39;49;00m\u001b[43m \u001b[49m\u001b[43ma\u001b[49m\u001b[43m)\u001b[49m]\n",
      "\u001b[1;31mTypeError\u001b[0m: 'bool' object is not iterable"
     ]
    }
   ],
   "source": []
  },
  {
   "cell_type": "code",
   "execution_count": null,
   "id": "cf13870d",
   "metadata": {},
   "outputs": [],
   "source": []
  }
 ],
 "metadata": {
  "kernelspec": {
   "display_name": "Python 3 (ipykernel)",
   "language": "python",
   "name": "python3"
  },
  "language_info": {
   "codemirror_mode": {
    "name": "ipython",
    "version": 3
   },
   "file_extension": ".py",
   "mimetype": "text/x-python",
   "name": "python",
   "nbconvert_exporter": "python",
   "pygments_lexer": "ipython3",
   "version": "3.9.7"
  }
 },
 "nbformat": 4,
 "nbformat_minor": 5
}
