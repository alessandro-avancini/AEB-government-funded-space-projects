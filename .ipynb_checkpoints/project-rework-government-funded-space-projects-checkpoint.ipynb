{
 "cells": [
  {
   "cell_type": "markdown",
   "id": "189370cc",
   "metadata": {},
   "source": [
    "# Government Funding Space Projects - FAPESP"
   ]
  },
  {
   "cell_type": "markdown",
   "id": "c7e50f6b",
   "metadata": {},
   "source": [
    "While at AEB, I was tasked to study and analyze the open library of projects funded by FAPESP, an institution from the state of São Paulo that provide funds to scientific research to universities and companies, so that the agency could start drafting a proposal of partnership with them.\n",
    "\n",
    "So, in this work, I perform an EDA of the data available at their open library, in order to provide insights and rationale for the best course of action AEB could take regarding FAPESP"
   ]
  },
  {
   "cell_type": "markdown",
   "id": "418b12c8",
   "metadata": {},
   "source": [
    "## Initializing the code"
   ]
  },
  {
   "cell_type": "markdown",
   "id": "26932a9e",
   "metadata": {},
   "source": [
    "first things first, the tools we'll be using througout the work need to be imported to the workspace. In this case we'll be using _Pandas_ for data manipulation and mostly _Seaborn_ and _Matplotlib_ for graphic generation and visualization"
   ]
  },
  {
   "cell_type": "code",
   "execution_count": 1,
   "id": "0f0ce127",
   "metadata": {},
   "outputs": [],
   "source": [
    "import pandas as pd\n",
    "import numpy as np\n",
    "import matplotlib.pyplot as plt\n",
    "import seaborn as sns\n",
    "%matplotlib inline"
   ]
  },
  {
   "cell_type": "markdown",
   "id": "14da2610",
   "metadata": {},
   "source": [
    "And also open the dataset"
   ]
  },
  {
   "cell_type": "code",
   "execution_count": 2,
   "id": "91cf6241",
   "metadata": {},
   "outputs": [],
   "source": [
    "dataset = pd.read_excel('dataset-space-projects.xlsx')"
   ]
  },
  {
   "cell_type": "markdown",
   "id": "a90f05ac",
   "metadata": {},
   "source": [
    "## Visualizing the Dataset"
   ]
  },
  {
   "cell_type": "markdown",
   "id": "1e068988",
   "metadata": {},
   "source": [
    "To start the analysis, let's take an overview look at the dataframe."
   ]
  },
  {
   "cell_type": "code",
   "execution_count": 3,
   "id": "ed9ebb56",
   "metadata": {},
   "outputs": [
    {
     "data": {
      "text/html": [
       "<div>\n",
       "<style scoped>\n",
       "    .dataframe tbody tr th:only-of-type {\n",
       "        vertical-align: middle;\n",
       "    }\n",
       "\n",
       "    .dataframe tbody tr th {\n",
       "        vertical-align: top;\n",
       "    }\n",
       "\n",
       "    .dataframe thead th {\n",
       "        text-align: right;\n",
       "    }\n",
       "</style>\n",
       "<table border=\"1\" class=\"dataframe\">\n",
       "  <thead>\n",
       "    <tr style=\"text-align: right;\">\n",
       "      <th></th>\n",
       "      <th>N. Processo</th>\n",
       "      <th>Título (Português)</th>\n",
       "      <th>Título (Inglês)</th>\n",
       "      <th>Beneficiário</th>\n",
       "      <th>Instituição</th>\n",
       "      <th>Cidade Instituição</th>\n",
       "      <th>Instituição Parceira</th>\n",
       "      <th>Empresa</th>\n",
       "      <th>Município</th>\n",
       "      <th>Pesquisador Responsável</th>\n",
       "      <th>...</th>\n",
       "      <th>Data de Início</th>\n",
       "      <th>Data de Término</th>\n",
       "      <th>Acordo(s)/Convênio(s) de Cooperação com a FAPESP</th>\n",
       "      <th>Instituições no Exterior</th>\n",
       "      <th>País (Instituições no Exterior)</th>\n",
       "      <th>Pesquisador responsável no exterior</th>\n",
       "      <th>Resumo (Português)</th>\n",
       "      <th>Resumo (Inglês)</th>\n",
       "      <th>Processos Vinculados</th>\n",
       "      <th>Unnamed: 30</th>\n",
       "    </tr>\n",
       "  </thead>\n",
       "  <tbody>\n",
       "    <tr>\n",
       "      <th>0</th>\n",
       "      <td>21/12066-2</td>\n",
       "      <td>Desenvolvimento de Bateria Aeronáutica Modular...</td>\n",
       "      <td>Development of High-performance Modular Aerona...</td>\n",
       "      <td>Arthur Roza Augusto</td>\n",
       "      <td>NaN</td>\n",
       "      <td>NaN</td>\n",
       "      <td>NaN</td>\n",
       "      <td>NaN</td>\n",
       "      <td>NaN</td>\n",
       "      <td>Arthur Roza Augusto</td>\n",
       "      <td>...</td>\n",
       "      <td>2022-03-01</td>\n",
       "      <td>2024-02-29</td>\n",
       "      <td>NaN</td>\n",
       "      <td>NaN</td>\n",
       "      <td>NaN</td>\n",
       "      <td>NaN</td>\n",
       "      <td>Atualmente, aeronaves modernas e a segurança d...</td>\n",
       "      <td>Today, modern aircraft and flight safety are c...</td>\n",
       "      <td>21/15032-1</td>\n",
       "      <td></td>\n",
       "    </tr>\n",
       "    <tr>\n",
       "      <th>1</th>\n",
       "      <td>20/13779-0</td>\n",
       "      <td>Máscara de furação aeronáutica reconfigurável ...</td>\n",
       "      <td>Numerical control drill jig</td>\n",
       "      <td>Glauber Lopes Mosqueira</td>\n",
       "      <td>NaN</td>\n",
       "      <td>NaN</td>\n",
       "      <td>NaN</td>\n",
       "      <td>Electroimpact do Brasil Indústria Aeroespacial...</td>\n",
       "      <td>Jacareí</td>\n",
       "      <td>Glauber Lopes Mosqueira</td>\n",
       "      <td>...</td>\n",
       "      <td>2021-12-01</td>\n",
       "      <td>2023-07-31</td>\n",
       "      <td>NaN</td>\n",
       "      <td>NaN</td>\n",
       "      <td>NaN</td>\n",
       "      <td>NaN</td>\n",
       "      <td>Máscaras de furação são o instrumento mais com...</td>\n",
       "      <td>Drill jigs are the most common tools used in t...</td>\n",
       "      <td>NaN</td>\n",
       "      <td></td>\n",
       "    </tr>\n",
       "    <tr>\n",
       "      <th>2</th>\n",
       "      <td>20/05837-0</td>\n",
       "      <td>Desenvolvimento de um transceptor UHF/VHF para...</td>\n",
       "      <td>Transceiver UHF/VHF for TT&amp;C subsystems of a c...</td>\n",
       "      <td>Marcelo Henrique Essado de Morais</td>\n",
       "      <td>NaN</td>\n",
       "      <td>NaN</td>\n",
       "      <td>NaN</td>\n",
       "      <td>Essado de Morais Ltda. - ME</td>\n",
       "      <td>Franca</td>\n",
       "      <td>Marcelo Henrique Essado de Morais</td>\n",
       "      <td>...</td>\n",
       "      <td>2021-06-01</td>\n",
       "      <td>2022-02-28</td>\n",
       "      <td>NaN</td>\n",
       "      <td>NaN</td>\n",
       "      <td>NaN</td>\n",
       "      <td>NaN</td>\n",
       "      <td>Desenvolvimento de um transceptor VHF e UHF fu...</td>\n",
       "      <td>This document describes the Project Plan to de...</td>\n",
       "      <td>21/05993-4</td>\n",
       "      <td></td>\n",
       "    </tr>\n",
       "    <tr>\n",
       "      <th>3</th>\n",
       "      <td>21/05993-4</td>\n",
       "      <td>Desenvolvimento de um transceptor UHF/VHF para...</td>\n",
       "      <td>Transceiver UHF/VHF for TT&amp;C subsystems of a c...</td>\n",
       "      <td>Marcelo Henrique Essado de Morais</td>\n",
       "      <td>NaN</td>\n",
       "      <td>NaN</td>\n",
       "      <td>Essado de Morais Ltda. - ME</td>\n",
       "      <td>NaN</td>\n",
       "      <td>NaN</td>\n",
       "      <td>Marcelo Henrique Essado de Morais</td>\n",
       "      <td>...</td>\n",
       "      <td>2021-06-01</td>\n",
       "      <td>2022-02-28</td>\n",
       "      <td>NaN</td>\n",
       "      <td>NaN</td>\n",
       "      <td>NaN</td>\n",
       "      <td>NaN</td>\n",
       "      <td>Desenvolvimento de um transceptor VHF e UHF fu...</td>\n",
       "      <td>NaN</td>\n",
       "      <td>NaN</td>\n",
       "      <td></td>\n",
       "    </tr>\n",
       "    <tr>\n",
       "      <th>4</th>\n",
       "      <td>20/05902-6</td>\n",
       "      <td>Inspeção dimensional portátil de furos por mét...</td>\n",
       "      <td>Portable dimensional inspection for holes by T...</td>\n",
       "      <td>Fabio do Monte Sena</td>\n",
       "      <td>NaN</td>\n",
       "      <td>NaN</td>\n",
       "      <td>NaN</td>\n",
       "      <td>Lume Tecnologia Ltda</td>\n",
       "      <td>São José dos Campos</td>\n",
       "      <td>Fabio do Monte Sena</td>\n",
       "      <td>...</td>\n",
       "      <td>2021-04-01</td>\n",
       "      <td>2022-03-31</td>\n",
       "      <td>NaN</td>\n",
       "      <td>NaN</td>\n",
       "      <td>NaN</td>\n",
       "      <td>NaN</td>\n",
       "      <td>O volume de componentes, os requisitos dimensi...</td>\n",
       "      <td>The number of components, the dimensional requ...</td>\n",
       "      <td>21/02729-4; 21/02837-1; 21/03143-3; 21/08902-0</td>\n",
       "      <td></td>\n",
       "    </tr>\n",
       "  </tbody>\n",
       "</table>\n",
       "<p>5 rows × 31 columns</p>\n",
       "</div>"
      ],
      "text/plain": [
       "  N. Processo                                 Título (Português)  \\\n",
       "0  21/12066-2  Desenvolvimento de Bateria Aeronáutica Modular...   \n",
       "1  20/13779-0  Máscara de furação aeronáutica reconfigurável ...   \n",
       "2  20/05837-0  Desenvolvimento de um transceptor UHF/VHF para...   \n",
       "3  21/05993-4  Desenvolvimento de um transceptor UHF/VHF para...   \n",
       "4  20/05902-6  Inspeção dimensional portátil de furos por mét...   \n",
       "\n",
       "                                     Título (Inglês)  \\\n",
       "0  Development of High-performance Modular Aerona...   \n",
       "1                        Numerical control drill jig   \n",
       "2  Transceiver UHF/VHF for TT&C subsystems of a c...   \n",
       "3  Transceiver UHF/VHF for TT&C subsystems of a c...   \n",
       "4  Portable dimensional inspection for holes by T...   \n",
       "\n",
       "                        Beneficiário  Instituição  Cidade Instituição  \\\n",
       "0                Arthur Roza Augusto          NaN                 NaN   \n",
       "1            Glauber Lopes Mosqueira          NaN                 NaN   \n",
       "2  Marcelo Henrique Essado de Morais          NaN                 NaN   \n",
       "3  Marcelo Henrique Essado de Morais          NaN                 NaN   \n",
       "4                Fabio do Monte Sena          NaN                 NaN   \n",
       "\n",
       "          Instituição Parceira  \\\n",
       "0                          NaN   \n",
       "1                          NaN   \n",
       "2                          NaN   \n",
       "3  Essado de Morais Ltda. - ME   \n",
       "4                          NaN   \n",
       "\n",
       "                                             Empresa            Município  \\\n",
       "0                                                NaN                  NaN   \n",
       "1  Electroimpact do Brasil Indústria Aeroespacial...              Jacareí   \n",
       "2                        Essado de Morais Ltda. - ME               Franca   \n",
       "3                                                NaN                  NaN   \n",
       "4                               Lume Tecnologia Ltda  São José dos Campos   \n",
       "\n",
       "             Pesquisador Responsável  ... Data de Início Data de Término  \\\n",
       "0                Arthur Roza Augusto  ...     2022-03-01      2024-02-29   \n",
       "1            Glauber Lopes Mosqueira  ...     2021-12-01      2023-07-31   \n",
       "2  Marcelo Henrique Essado de Morais  ...     2021-06-01      2022-02-28   \n",
       "3  Marcelo Henrique Essado de Morais  ...     2021-06-01      2022-02-28   \n",
       "4                Fabio do Monte Sena  ...     2021-04-01      2022-03-31   \n",
       "\n",
       "   Acordo(s)/Convênio(s) de Cooperação com a FAPESP  Instituições no Exterior  \\\n",
       "0                                               NaN                       NaN   \n",
       "1                                               NaN                       NaN   \n",
       "2                                               NaN                       NaN   \n",
       "3                                               NaN                       NaN   \n",
       "4                                               NaN                       NaN   \n",
       "\n",
       "   País (Instituições no Exterior)  Pesquisador responsável no exterior  \\\n",
       "0                              NaN                                  NaN   \n",
       "1                              NaN                                  NaN   \n",
       "2                              NaN                                  NaN   \n",
       "3                              NaN                                  NaN   \n",
       "4                              NaN                                  NaN   \n",
       "\n",
       "                                  Resumo (Português)  \\\n",
       "0  Atualmente, aeronaves modernas e a segurança d...   \n",
       "1  Máscaras de furação são o instrumento mais com...   \n",
       "2  Desenvolvimento de um transceptor VHF e UHF fu...   \n",
       "3  Desenvolvimento de um transceptor VHF e UHF fu...   \n",
       "4  O volume de componentes, os requisitos dimensi...   \n",
       "\n",
       "                                     Resumo (Inglês)  \\\n",
       "0  Today, modern aircraft and flight safety are c...   \n",
       "1  Drill jigs are the most common tools used in t...   \n",
       "2  This document describes the Project Plan to de...   \n",
       "3                                                NaN   \n",
       "4  The number of components, the dimensional requ...   \n",
       "\n",
       "                             Processos Vinculados Unnamed: 30  \n",
       "0                                      21/15032-1              \n",
       "1                                             NaN              \n",
       "2                                      21/05993-4              \n",
       "3                                             NaN              \n",
       "4  21/02729-4; 21/02837-1; 21/03143-3; 21/08902-0              \n",
       "\n",
       "[5 rows x 31 columns]"
      ]
     },
     "execution_count": 3,
     "metadata": {},
     "output_type": "execute_result"
    }
   ],
   "source": [
    "dataset.head()"
   ]
  },
  {
   "cell_type": "code",
   "execution_count": 4,
   "id": "ab165ab1",
   "metadata": {},
   "outputs": [
    {
     "name": "stdout",
     "output_type": "stream",
     "text": [
      "<class 'pandas.core.frame.DataFrame'>\n",
      "RangeIndex: 208 entries, 0 to 207\n",
      "Data columns (total 31 columns):\n",
      " #   Column                                            Non-Null Count  Dtype         \n",
      "---  ------                                            --------------  -----         \n",
      " 0   N. Processo                                       208 non-null    object        \n",
      " 1   Título (Português)                                208 non-null    object        \n",
      " 2   Título (Inglês)                                   148 non-null    object        \n",
      " 3   Beneficiário                                      208 non-null    object        \n",
      " 4   Instituição                                       0 non-null      float64       \n",
      " 5   Cidade Instituição                                0 non-null      float64       \n",
      " 6   Instituição Parceira                              55 non-null     object        \n",
      " 7   Empresa                                           152 non-null    object        \n",
      " 8   Município                                         152 non-null    object        \n",
      " 9   Pesquisador Responsável                           208 non-null    object        \n",
      " 10  Pesquisadores Principais                          28 non-null     object        \n",
      " 11  Pesquisadores Associados                          32 non-null     object        \n",
      " 12  Supervisor                                        0 non-null      float64       \n",
      " 13  Local de Pesquisa                                 0 non-null      float64       \n",
      " 14  Pesquisador Visitante                             0 non-null      float64       \n",
      " 15  Instituição do Pesquisador Visitante              0 non-null      float64       \n",
      " 16  Linha de Fomento                                  208 non-null    object        \n",
      " 17  Grande Área do Conhecimento                       208 non-null    object        \n",
      " 18  Área do Conhecimento                              206 non-null    object        \n",
      " 19  Subárea do Conhecimento                           162 non-null    object        \n",
      " 20  Assuntos                                          208 non-null    object        \n",
      " 21  Data de Início                                    208 non-null    datetime64[ns]\n",
      " 22  Data de Término                                   208 non-null    datetime64[ns]\n",
      " 23  Acordo(s)/Convênio(s) de Cooperação com a FAPESP  45 non-null     object        \n",
      " 24  Instituições no Exterior                          3 non-null      object        \n",
      " 25  País (Instituições no Exterior)                   3 non-null      object        \n",
      " 26  Pesquisador responsável no exterior               3 non-null      object        \n",
      " 27  Resumo (Português)                                206 non-null    object        \n",
      " 28  Resumo (Inglês)                                   116 non-null    object        \n",
      " 29  Processos Vinculados                              79 non-null     object        \n",
      " 30  Unnamed: 30                                       208 non-null    object        \n",
      "dtypes: datetime64[ns](2), float64(6), object(23)\n",
      "memory usage: 50.5+ KB\n"
     ]
    }
   ],
   "source": [
    "dataset.info()"
   ]
  },
  {
   "cell_type": "markdown",
   "id": "533ab9fc",
   "metadata": {},
   "source": [
    "It is worth to say that this dataset contains all the projects related to aeroespace engeneering "
   ]
  },
  {
   "cell_type": "markdown",
   "id": "2d843c7c",
   "metadata": {},
   "source": [
    "## Searching for core space technology"
   ]
  },
  {
   "cell_type": "markdown",
   "id": "cc4b106b",
   "metadata": {},
   "source": [
    "One of the requirements of this project was that it must be focused in core space technology. The space sector is so broad\n",
    "and relates to so many diferent fields that narrowing that scope was more than necessary. So, since we were looking for projects related to core space technology, the next thing I needed to do was to filter the dataframe based on this requirement.\n",
    "\n",
    "The strategy I adopted was to search for keywords related to the tech I was looking for in some descriptive columns of the dataset"
   ]
  },
  {
   "cell_type": "code",
   "execution_count": 5,
   "id": "cecf1b55",
   "metadata": {
    "scrolled": true
   },
   "outputs": [
    {
     "data": {
      "text/html": [
       "<div>\n",
       "<style scoped>\n",
       "    .dataframe tbody tr th:only-of-type {\n",
       "        vertical-align: middle;\n",
       "    }\n",
       "\n",
       "    .dataframe tbody tr th {\n",
       "        vertical-align: top;\n",
       "    }\n",
       "\n",
       "    .dataframe thead th {\n",
       "        text-align: right;\n",
       "    }\n",
       "</style>\n",
       "<table border=\"1\" class=\"dataframe\">\n",
       "  <thead>\n",
       "    <tr style=\"text-align: right;\">\n",
       "      <th></th>\n",
       "      <th>N. Processo</th>\n",
       "      <th>Título (Português)</th>\n",
       "      <th>Título (Inglês)</th>\n",
       "      <th>Beneficiário</th>\n",
       "      <th>Instituição</th>\n",
       "      <th>Cidade Instituição</th>\n",
       "      <th>Instituição Parceira</th>\n",
       "      <th>Empresa</th>\n",
       "      <th>Município</th>\n",
       "      <th>Pesquisador Responsável</th>\n",
       "      <th>...</th>\n",
       "      <th>Data de Início</th>\n",
       "      <th>Data de Término</th>\n",
       "      <th>Acordo(s)/Convênio(s) de Cooperação com a FAPESP</th>\n",
       "      <th>Instituições no Exterior</th>\n",
       "      <th>País (Instituições no Exterior)</th>\n",
       "      <th>Pesquisador responsável no exterior</th>\n",
       "      <th>Resumo (Português)</th>\n",
       "      <th>Resumo (Inglês)</th>\n",
       "      <th>Processos Vinculados</th>\n",
       "      <th>Unnamed: 30</th>\n",
       "    </tr>\n",
       "  </thead>\n",
       "  <tbody>\n",
       "    <tr>\n",
       "      <th>2</th>\n",
       "      <td>20/05837-0</td>\n",
       "      <td>Desenvolvimento de um transceptor UHF/VHF para...</td>\n",
       "      <td>Transceiver UHF/VHF for TT&amp;C subsystems of a c...</td>\n",
       "      <td>Marcelo Henrique Essado de Morais</td>\n",
       "      <td>NaN</td>\n",
       "      <td>NaN</td>\n",
       "      <td>NaN</td>\n",
       "      <td>Essado de Morais Ltda. - ME</td>\n",
       "      <td>Franca</td>\n",
       "      <td>Marcelo Henrique Essado de Morais</td>\n",
       "      <td>...</td>\n",
       "      <td>2021-06-01</td>\n",
       "      <td>2022-02-28</td>\n",
       "      <td>NaN</td>\n",
       "      <td>NaN</td>\n",
       "      <td>NaN</td>\n",
       "      <td>NaN</td>\n",
       "      <td>Desenvolvimento de um transceptor VHF e UHF fu...</td>\n",
       "      <td>This document describes the Project Plan to de...</td>\n",
       "      <td>21/05993-4</td>\n",
       "      <td></td>\n",
       "    </tr>\n",
       "    <tr>\n",
       "      <th>3</th>\n",
       "      <td>21/05993-4</td>\n",
       "      <td>Desenvolvimento de um transceptor UHF/VHF para...</td>\n",
       "      <td>Transceiver UHF/VHF for TT&amp;C subsystems of a c...</td>\n",
       "      <td>Marcelo Henrique Essado de Morais</td>\n",
       "      <td>NaN</td>\n",
       "      <td>NaN</td>\n",
       "      <td>Essado de Morais Ltda. - ME</td>\n",
       "      <td>NaN</td>\n",
       "      <td>NaN</td>\n",
       "      <td>Marcelo Henrique Essado de Morais</td>\n",
       "      <td>...</td>\n",
       "      <td>2021-06-01</td>\n",
       "      <td>2022-02-28</td>\n",
       "      <td>NaN</td>\n",
       "      <td>NaN</td>\n",
       "      <td>NaN</td>\n",
       "      <td>NaN</td>\n",
       "      <td>Desenvolvimento de um transceptor VHF e UHF fu...</td>\n",
       "      <td>NaN</td>\n",
       "      <td>NaN</td>\n",
       "      <td></td>\n",
       "    </tr>\n",
       "    <tr>\n",
       "      <th>7</th>\n",
       "      <td>20/05196-4</td>\n",
       "      <td>Pesquisa e desenvolvimento de constelação de s...</td>\n",
       "      <td>Satellite based precision agriculture IoT network</td>\n",
       "      <td>Luis Marcelo Coelho Acosta</td>\n",
       "      <td>NaN</td>\n",
       "      <td>NaN</td>\n",
       "      <td>NaN</td>\n",
       "      <td>Acosta Aeroespaço Engenharia e Serviços Especi...</td>\n",
       "      <td>São José dos Campos</td>\n",
       "      <td>Luis Marcelo Coelho Acosta</td>\n",
       "      <td>...</td>\n",
       "      <td>2021-03-01</td>\n",
       "      <td>2023-02-28</td>\n",
       "      <td>MCTI/MC</td>\n",
       "      <td>NaN</td>\n",
       "      <td>NaN</td>\n",
       "      <td>NaN</td>\n",
       "      <td>Este projeto objetiva ter uma rede IoT terrest...</td>\n",
       "      <td>This project aims to have a terrestrial IoT ne...</td>\n",
       "      <td>21/11875-4; 22/00146-4</td>\n",
       "      <td></td>\n",
       "    </tr>\n",
       "    <tr>\n",
       "      <th>9</th>\n",
       "      <td>19/00983-0</td>\n",
       "      <td>Eletrônica de processamento de alta confiabili...</td>\n",
       "      <td>High reliability processing electronics for cu...</td>\n",
       "      <td>Valter Ricardo Schad</td>\n",
       "      <td>NaN</td>\n",
       "      <td>NaN</td>\n",
       "      <td>NaN</td>\n",
       "      <td>Horuseye Tech Engenharia de Sistemas Ltda</td>\n",
       "      <td>São José dos Campos</td>\n",
       "      <td>Valter Ricardo Schad</td>\n",
       "      <td>...</td>\n",
       "      <td>2020-10-01</td>\n",
       "      <td>2021-06-30</td>\n",
       "      <td>NaN</td>\n",
       "      <td>NaN</td>\n",
       "      <td>NaN</td>\n",
       "      <td>NaN</td>\n",
       "      <td>A presente proposta é de uma nova geração, em ...</td>\n",
       "      <td>The present proposal is a new generation, in t...</td>\n",
       "      <td>20/14645-7; 20/15273-6</td>\n",
       "      <td></td>\n",
       "    </tr>\n",
       "    <tr>\n",
       "      <th>10</th>\n",
       "      <td>20/14645-7</td>\n",
       "      <td>Eletrônica de processamento de alta confiabili...</td>\n",
       "      <td>High reliability processing electronics for cu...</td>\n",
       "      <td>Valter Ricardo Schad</td>\n",
       "      <td>NaN</td>\n",
       "      <td>NaN</td>\n",
       "      <td>Horuseye Tech Engenharia de Sistemas Ltda</td>\n",
       "      <td>NaN</td>\n",
       "      <td>NaN</td>\n",
       "      <td>Valter Ricardo Schad</td>\n",
       "      <td>...</td>\n",
       "      <td>2020-10-01</td>\n",
       "      <td>2021-06-30</td>\n",
       "      <td>NaN</td>\n",
       "      <td>NaN</td>\n",
       "      <td>NaN</td>\n",
       "      <td>NaN</td>\n",
       "      <td>O Bolsista será responsável pelo projeto como ...</td>\n",
       "      <td>NaN</td>\n",
       "      <td>NaN</td>\n",
       "      <td></td>\n",
       "    </tr>\n",
       "    <tr>\n",
       "      <th>...</th>\n",
       "      <td>...</td>\n",
       "      <td>...</td>\n",
       "      <td>...</td>\n",
       "      <td>...</td>\n",
       "      <td>...</td>\n",
       "      <td>...</td>\n",
       "      <td>...</td>\n",
       "      <td>...</td>\n",
       "      <td>...</td>\n",
       "      <td>...</td>\n",
       "      <td>...</td>\n",
       "      <td>...</td>\n",
       "      <td>...</td>\n",
       "      <td>...</td>\n",
       "      <td>...</td>\n",
       "      <td>...</td>\n",
       "      <td>...</td>\n",
       "      <td>...</td>\n",
       "      <td>...</td>\n",
       "      <td>...</td>\n",
       "      <td>...</td>\n",
       "    </tr>\n",
       "    <tr>\n",
       "      <th>203</th>\n",
       "      <td>99/09372-9</td>\n",
       "      <td>Desenvolvimento de terminal de usuário para tr...</td>\n",
       "      <td>NaN</td>\n",
       "      <td>Joel Muniz Bezerra</td>\n",
       "      <td>NaN</td>\n",
       "      <td>NaN</td>\n",
       "      <td>Databus Sankay Ltda</td>\n",
       "      <td>NaN</td>\n",
       "      <td>NaN</td>\n",
       "      <td>Joel Muniz Bezerra</td>\n",
       "      <td>...</td>\n",
       "      <td>1999-10-01</td>\n",
       "      <td>2002-12-31</td>\n",
       "      <td>NaN</td>\n",
       "      <td>NaN</td>\n",
       "      <td>NaN</td>\n",
       "      <td>NaN</td>\n",
       "      <td>Desenvolvimento de antenas ativas impressas, p...</td>\n",
       "      <td>NaN</td>\n",
       "      <td>NaN</td>\n",
       "      <td></td>\n",
       "    </tr>\n",
       "    <tr>\n",
       "      <th>204</th>\n",
       "      <td>99/06432-0</td>\n",
       "      <td>Linearizador pré-distorcivo para amplificadore...</td>\n",
       "      <td>Pre-distortion linearizer for high power ampli...</td>\n",
       "      <td>Wilton José Fleming</td>\n",
       "      <td>NaN</td>\n",
       "      <td>NaN</td>\n",
       "      <td>NaN</td>\n",
       "      <td>Beta Telecom Consultoria e Comércio Ltda</td>\n",
       "      <td>São José dos Campos</td>\n",
       "      <td>Wilton José Fleming</td>\n",
       "      <td>...</td>\n",
       "      <td>1999-10-01</td>\n",
       "      <td>2006-11-30</td>\n",
       "      <td>NaN</td>\n",
       "      <td>NaN</td>\n",
       "      <td>NaN</td>\n",
       "      <td>NaN</td>\n",
       "      <td>O presente trabalho propõe-se a investigar os ...</td>\n",
       "      <td>The present work is designed to investigate th...</td>\n",
       "      <td>NaN</td>\n",
       "      <td></td>\n",
       "    </tr>\n",
       "    <tr>\n",
       "      <th>205</th>\n",
       "      <td>97/13253-0</td>\n",
       "      <td>Amplificador de baixo ruído com conversor de f...</td>\n",
       "      <td>Low noise amplifier with frequency converter i...</td>\n",
       "      <td>Alexandre Nunes da Trindade</td>\n",
       "      <td>NaN</td>\n",
       "      <td>NaN</td>\n",
       "      <td>NaN</td>\n",
       "      <td>Proqualit Telecon Ltda</td>\n",
       "      <td>Guararema</td>\n",
       "      <td>Alexandre Nunes da Trindade</td>\n",
       "      <td>...</td>\n",
       "      <td>1998-06-01</td>\n",
       "      <td>2003-05-31</td>\n",
       "      <td>NaN</td>\n",
       "      <td>NaN</td>\n",
       "      <td>NaN</td>\n",
       "      <td>NaN</td>\n",
       "      <td>O presente projeto consiste na especificação c...</td>\n",
       "      <td>The present project consists of the complete s...</td>\n",
       "      <td>98/07100-9; 04/13954-3</td>\n",
       "      <td></td>\n",
       "    </tr>\n",
       "    <tr>\n",
       "      <th>206</th>\n",
       "      <td>97/07357-7</td>\n",
       "      <td>Desenvolvimento de refrigeradores baseados no ...</td>\n",
       "      <td>Development of refrigerators based on thermo-a...</td>\n",
       "      <td>Humberto Pontes Cardoso</td>\n",
       "      <td>NaN</td>\n",
       "      <td>NaN</td>\n",
       "      <td>NaN</td>\n",
       "      <td>Equatorial Sistemas S/A</td>\n",
       "      <td>São José dos Campos</td>\n",
       "      <td>Humberto Pontes Cardoso</td>\n",
       "      <td>...</td>\n",
       "      <td>1998-01-01</td>\n",
       "      <td>2001-08-31</td>\n",
       "      <td>NaN</td>\n",
       "      <td>NaN</td>\n",
       "      <td>NaN</td>\n",
       "      <td>NaN</td>\n",
       "      <td>Os recentes avanços no desenvolvimento de dete...</td>\n",
       "      <td>The recent progress in developing long-wave ph...</td>\n",
       "      <td>97/12916-5; 97/13711-8; 99/11968-7</td>\n",
       "      <td></td>\n",
       "    </tr>\n",
       "    <tr>\n",
       "      <th>207</th>\n",
       "      <td>97/07403-9</td>\n",
       "      <td>Sistema automático para monitoração de rotas d...</td>\n",
       "      <td>Automatic system for monitoring vehicle routes</td>\n",
       "      <td>Ailton de Assis Queiroga</td>\n",
       "      <td>NaN</td>\n",
       "      <td>NaN</td>\n",
       "      <td>NaN</td>\n",
       "      <td>Compsis Computadores Sistemas Indústria e Comé...</td>\n",
       "      <td>São José dos Campos</td>\n",
       "      <td>Ailton de Assis Queiroga</td>\n",
       "      <td>...</td>\n",
       "      <td>1998-01-01</td>\n",
       "      <td>2001-08-31</td>\n",
       "      <td>NaN</td>\n",
       "      <td>NaN</td>\n",
       "      <td>NaN</td>\n",
       "      <td>NaN</td>\n",
       "      <td>O presente projeto de pesquisa tem como objeti...</td>\n",
       "      <td>The purpose of this research project is to imp...</td>\n",
       "      <td>04/14181-8</td>\n",
       "      <td></td>\n",
       "    </tr>\n",
       "  </tbody>\n",
       "</table>\n",
       "<p>136 rows × 31 columns</p>\n",
       "</div>"
      ],
      "text/plain": [
       "    N. Processo                                 Título (Português)  \\\n",
       "2    20/05837-0  Desenvolvimento de um transceptor UHF/VHF para...   \n",
       "3    21/05993-4  Desenvolvimento de um transceptor UHF/VHF para...   \n",
       "7    20/05196-4  Pesquisa e desenvolvimento de constelação de s...   \n",
       "9    19/00983-0  Eletrônica de processamento de alta confiabili...   \n",
       "10   20/14645-7  Eletrônica de processamento de alta confiabili...   \n",
       "..          ...                                                ...   \n",
       "203  99/09372-9  Desenvolvimento de terminal de usuário para tr...   \n",
       "204  99/06432-0  Linearizador pré-distorcivo para amplificadore...   \n",
       "205  97/13253-0  Amplificador de baixo ruído com conversor de f...   \n",
       "206  97/07357-7  Desenvolvimento de refrigeradores baseados no ...   \n",
       "207  97/07403-9  Sistema automático para monitoração de rotas d...   \n",
       "\n",
       "                                       Título (Inglês)  \\\n",
       "2    Transceiver UHF/VHF for TT&C subsystems of a c...   \n",
       "3    Transceiver UHF/VHF for TT&C subsystems of a c...   \n",
       "7    Satellite based precision agriculture IoT network   \n",
       "9    High reliability processing electronics for cu...   \n",
       "10   High reliability processing electronics for cu...   \n",
       "..                                                 ...   \n",
       "203                                                NaN   \n",
       "204  Pre-distortion linearizer for high power ampli...   \n",
       "205  Low noise amplifier with frequency converter i...   \n",
       "206  Development of refrigerators based on thermo-a...   \n",
       "207     Automatic system for monitoring vehicle routes   \n",
       "\n",
       "                          Beneficiário  Instituição  Cidade Instituição  \\\n",
       "2    Marcelo Henrique Essado de Morais          NaN                 NaN   \n",
       "3    Marcelo Henrique Essado de Morais          NaN                 NaN   \n",
       "7           Luis Marcelo Coelho Acosta          NaN                 NaN   \n",
       "9                 Valter Ricardo Schad          NaN                 NaN   \n",
       "10                Valter Ricardo Schad          NaN                 NaN   \n",
       "..                                 ...          ...                 ...   \n",
       "203                 Joel Muniz Bezerra          NaN                 NaN   \n",
       "204                Wilton José Fleming          NaN                 NaN   \n",
       "205        Alexandre Nunes da Trindade          NaN                 NaN   \n",
       "206            Humberto Pontes Cardoso          NaN                 NaN   \n",
       "207           Ailton de Assis Queiroga          NaN                 NaN   \n",
       "\n",
       "                          Instituição Parceira  \\\n",
       "2                                          NaN   \n",
       "3                  Essado de Morais Ltda. - ME   \n",
       "7                                          NaN   \n",
       "9                                          NaN   \n",
       "10   Horuseye Tech Engenharia de Sistemas Ltda   \n",
       "..                                         ...   \n",
       "203                        Databus Sankay Ltda   \n",
       "204                                        NaN   \n",
       "205                                        NaN   \n",
       "206                                        NaN   \n",
       "207                                        NaN   \n",
       "\n",
       "                                               Empresa            Município  \\\n",
       "2                          Essado de Morais Ltda. - ME               Franca   \n",
       "3                                                  NaN                  NaN   \n",
       "7    Acosta Aeroespaço Engenharia e Serviços Especi...  São José dos Campos   \n",
       "9            Horuseye Tech Engenharia de Sistemas Ltda  São José dos Campos   \n",
       "10                                                 NaN                  NaN   \n",
       "..                                                 ...                  ...   \n",
       "203                                                NaN                  NaN   \n",
       "204           Beta Telecom Consultoria e Comércio Ltda  São José dos Campos   \n",
       "205                             Proqualit Telecon Ltda            Guararema   \n",
       "206                            Equatorial Sistemas S/A  São José dos Campos   \n",
       "207  Compsis Computadores Sistemas Indústria e Comé...  São José dos Campos   \n",
       "\n",
       "               Pesquisador Responsável  ... Data de Início Data de Término  \\\n",
       "2    Marcelo Henrique Essado de Morais  ...     2021-06-01      2022-02-28   \n",
       "3    Marcelo Henrique Essado de Morais  ...     2021-06-01      2022-02-28   \n",
       "7           Luis Marcelo Coelho Acosta  ...     2021-03-01      2023-02-28   \n",
       "9                 Valter Ricardo Schad  ...     2020-10-01      2021-06-30   \n",
       "10                Valter Ricardo Schad  ...     2020-10-01      2021-06-30   \n",
       "..                                 ...  ...            ...             ...   \n",
       "203                 Joel Muniz Bezerra  ...     1999-10-01      2002-12-31   \n",
       "204                Wilton José Fleming  ...     1999-10-01      2006-11-30   \n",
       "205        Alexandre Nunes da Trindade  ...     1998-06-01      2003-05-31   \n",
       "206            Humberto Pontes Cardoso  ...     1998-01-01      2001-08-31   \n",
       "207           Ailton de Assis Queiroga  ...     1998-01-01      2001-08-31   \n",
       "\n",
       "     Acordo(s)/Convênio(s) de Cooperação com a FAPESP  \\\n",
       "2                                                 NaN   \n",
       "3                                                 NaN   \n",
       "7                                             MCTI/MC   \n",
       "9                                                 NaN   \n",
       "10                                                NaN   \n",
       "..                                                ...   \n",
       "203                                               NaN   \n",
       "204                                               NaN   \n",
       "205                                               NaN   \n",
       "206                                               NaN   \n",
       "207                                               NaN   \n",
       "\n",
       "     Instituições no Exterior  País (Instituições no Exterior)  \\\n",
       "2                         NaN                              NaN   \n",
       "3                         NaN                              NaN   \n",
       "7                         NaN                              NaN   \n",
       "9                         NaN                              NaN   \n",
       "10                        NaN                              NaN   \n",
       "..                        ...                              ...   \n",
       "203                       NaN                              NaN   \n",
       "204                       NaN                              NaN   \n",
       "205                       NaN                              NaN   \n",
       "206                       NaN                              NaN   \n",
       "207                       NaN                              NaN   \n",
       "\n",
       "     Pesquisador responsável no exterior  \\\n",
       "2                                    NaN   \n",
       "3                                    NaN   \n",
       "7                                    NaN   \n",
       "9                                    NaN   \n",
       "10                                   NaN   \n",
       "..                                   ...   \n",
       "203                                  NaN   \n",
       "204                                  NaN   \n",
       "205                                  NaN   \n",
       "206                                  NaN   \n",
       "207                                  NaN   \n",
       "\n",
       "                                    Resumo (Português)  \\\n",
       "2    Desenvolvimento de um transceptor VHF e UHF fu...   \n",
       "3    Desenvolvimento de um transceptor VHF e UHF fu...   \n",
       "7    Este projeto objetiva ter uma rede IoT terrest...   \n",
       "9    A presente proposta é de uma nova geração, em ...   \n",
       "10   O Bolsista será responsável pelo projeto como ...   \n",
       "..                                                 ...   \n",
       "203  Desenvolvimento de antenas ativas impressas, p...   \n",
       "204  O presente trabalho propõe-se a investigar os ...   \n",
       "205  O presente projeto consiste na especificação c...   \n",
       "206  Os recentes avanços no desenvolvimento de dete...   \n",
       "207  O presente projeto de pesquisa tem como objeti...   \n",
       "\n",
       "                                       Resumo (Inglês)  \\\n",
       "2    This document describes the Project Plan to de...   \n",
       "3                                                  NaN   \n",
       "7    This project aims to have a terrestrial IoT ne...   \n",
       "9    The present proposal is a new generation, in t...   \n",
       "10                                                 NaN   \n",
       "..                                                 ...   \n",
       "203                                                NaN   \n",
       "204  The present work is designed to investigate th...   \n",
       "205  The present project consists of the complete s...   \n",
       "206  The recent progress in developing long-wave ph...   \n",
       "207  The purpose of this research project is to imp...   \n",
       "\n",
       "                   Processos Vinculados Unnamed: 30  \n",
       "2                            21/05993-4              \n",
       "3                                   NaN              \n",
       "7                21/11875-4; 22/00146-4              \n",
       "9                20/14645-7; 20/15273-6              \n",
       "10                                  NaN              \n",
       "..                                  ...         ...  \n",
       "203                                 NaN              \n",
       "204                                 NaN              \n",
       "205              98/07100-9; 04/13954-3              \n",
       "206  97/12916-5; 97/13711-8; 99/11968-7              \n",
       "207                          04/14181-8              \n",
       "\n",
       "[136 rows x 31 columns]"
      ]
     },
     "execution_count": 5,
     "metadata": {},
     "output_type": "execute_result"
    }
   ],
   "source": [
    "keywords = ['lançador', 'satélite', 'foguete', 'inpe']\n",
    "contains_keyword_resumo = [any(keyword in description.lower() for keyword in keywords) for description in dataset['Resumo (Português)'].fillna('')]\n",
    "contains_keyword_assuntos = [any(keyword in description.lower() for keyword in keywords) for description in dataset['Assuntos'].fillna('')]\n",
    "\n",
    "contains_keyword = [any(statement) for statement in zip(contains_keyword_resumo, contains_keyword_assuntos)]\n",
    "\n",
    "dataset[contains_keyword]"
   ]
  },
  {
   "cell_type": "markdown",
   "id": "de8de5ba",
   "metadata": {},
   "source": [
    "After that filtering, going through the data reveals that there are duplicated lines. These can happen for a number of reasons, but we will drop them to make the analysis cleaner."
   ]
  },
  {
   "cell_type": "code",
   "execution_count": 6,
   "id": "8ee046d1",
   "metadata": {},
   "outputs": [],
   "source": [
    "space_projects = dataset[contains_keyword].drop_duplicates().reset_index(drop=True)"
   ]
  },
  {
   "cell_type": "code",
   "execution_count": 7,
   "id": "74707d84",
   "metadata": {},
   "outputs": [
    {
     "data": {
      "text/plain": [
       "(96, 31)"
      ]
     },
     "execution_count": 7,
     "metadata": {},
     "output_type": "execute_result"
    }
   ],
   "source": [
    "space_projects.shape"
   ]
  },
  {
   "cell_type": "markdown",
   "id": "b42979a4",
   "metadata": {},
   "source": [
    "And here we reach the mark of 96 projects that cite any of the keywords (\"Lançador\", \"Satélite\", \"Foguete\", \"INPE\"). Now, if we carefully analize the content of the projects, we can see that not all of them are directed to the space sector, some of the projects vaguely cite one of the keywords in a way that gets them through the filter, but don't really makes much sense being in the analysis, since they fit more in the aeronautics field. So, me and my team checked all of the projects and pinpointed those that should be excluded "
   ]
  },
  {
   "cell_type": "code",
   "execution_count": 8,
   "id": "cf13870d",
   "metadata": {},
   "outputs": [],
   "source": [
    "not_space_projects = [42, 51, 53, 56, 57, 62, 68, 74, 75, 77, 78, 79]"
   ]
  },
  {
   "cell_type": "markdown",
   "id": "60b121d1",
   "metadata": {},
   "source": [
    "After that review, we can finally get to the final roast of projects to be further analized"
   ]
  },
  {
   "cell_type": "code",
   "execution_count": 9,
   "id": "a4f9dc0c",
   "metadata": {},
   "outputs": [],
   "source": [
    "space_projects = space_projects.drop(not_space_projects).reset_index(drop=True)"
   ]
  },
  {
   "cell_type": "code",
   "execution_count": 10,
   "id": "b3555cf0",
   "metadata": {},
   "outputs": [
    {
     "name": "stdout",
     "output_type": "stream",
     "text": [
      "<class 'pandas.core.frame.DataFrame'>\n",
      "RangeIndex: 84 entries, 0 to 83\n",
      "Data columns (total 31 columns):\n",
      " #   Column                                            Non-Null Count  Dtype         \n",
      "---  ------                                            --------------  -----         \n",
      " 0   N. Processo                                       84 non-null     object        \n",
      " 1   Título (Português)                                84 non-null     object        \n",
      " 2   Título (Inglês)                                   70 non-null     object        \n",
      " 3   Beneficiário                                      84 non-null     object        \n",
      " 4   Instituição                                       0 non-null      float64       \n",
      " 5   Cidade Instituição                                0 non-null      float64       \n",
      " 6   Instituição Parceira                              17 non-null     object        \n",
      " 7   Empresa                                           67 non-null     object        \n",
      " 8   Município                                         67 non-null     object        \n",
      " 9   Pesquisador Responsável                           84 non-null     object        \n",
      " 10  Pesquisadores Principais                          9 non-null      object        \n",
      " 11  Pesquisadores Associados                          13 non-null     object        \n",
      " 12  Supervisor                                        0 non-null      float64       \n",
      " 13  Local de Pesquisa                                 0 non-null      float64       \n",
      " 14  Pesquisador Visitante                             0 non-null      float64       \n",
      " 15  Instituição do Pesquisador Visitante              0 non-null      float64       \n",
      " 16  Linha de Fomento                                  84 non-null     object        \n",
      " 17  Grande Área do Conhecimento                       84 non-null     object        \n",
      " 18  Área do Conhecimento                              82 non-null     object        \n",
      " 19  Subárea do Conhecimento                           76 non-null     object        \n",
      " 20  Assuntos                                          84 non-null     object        \n",
      " 21  Data de Início                                    84 non-null     datetime64[ns]\n",
      " 22  Data de Término                                   84 non-null     datetime64[ns]\n",
      " 23  Acordo(s)/Convênio(s) de Cooperação com a FAPESP  21 non-null     object        \n",
      " 24  Instituições no Exterior                          2 non-null      object        \n",
      " 25  País (Instituições no Exterior)                   2 non-null      object        \n",
      " 26  Pesquisador responsável no exterior               2 non-null      object        \n",
      " 27  Resumo (Português)                                83 non-null     object        \n",
      " 28  Resumo (Inglês)                                   58 non-null     object        \n",
      " 29  Processos Vinculados                              33 non-null     object        \n",
      " 30  Unnamed: 30                                       84 non-null     object        \n",
      "dtypes: datetime64[ns](2), float64(6), object(23)\n",
      "memory usage: 20.5+ KB\n"
     ]
    }
   ],
   "source": [
    "space_projects.info()"
   ]
  },
  {
   "cell_type": "markdown",
   "id": "acb09ab3",
   "metadata": {},
   "source": [
    "## Unifying information on single column"
   ]
  },
  {
   "cell_type": "markdown",
   "id": "ce94b935",
   "metadata": {},
   "source": [
    "There is one more adition to make. There are two columns in the dataset that serve the same function: record the name of the company that was granted that project. They are the _\"Empresa\"_ and _\"Instituição Parceira\"_ columns. Since the columns complement each other - meaning that whenever one is null, the other is filled - we can fuse them into one single column. I'll call it _\"Entidade\"_"
   ]
  },
  {
   "cell_type": "code",
   "execution_count": 11,
   "id": "47069ec0",
   "metadata": {},
   "outputs": [],
   "source": [
    "space_projects['Entidade'] = np.where(space_projects['Empresa'].notna(),\n",
    "                          space_projects['Empresa'],\n",
    "                          space_projects['Instituição Parceira'])"
   ]
  },
  {
   "cell_type": "markdown",
   "id": "c7b6e660",
   "metadata": {},
   "source": [
    "Finally, With the number of projects reduced from 208 to 84 and all the companies organized in one single column, it's time to start the exploratory analysis"
   ]
  },
  {
   "cell_type": "markdown",
   "id": "ec456331",
   "metadata": {},
   "source": [
    "# Exploratory Data Analysis of the dataset"
   ]
  },
  {
   "cell_type": "markdown",
   "id": "5a850199",
   "metadata": {},
   "source": [
    "The objective here is to uncover ways that the Brazilian Space Agency could interact with FAPESP. Since FAPESP is a government entity that funds research and development initiatives, describing caracteristics of past funded projects can provide valuable insights as to how FAPESP operates and what kind of projects they tend to fund. Knowing that fact, the EDA will focus on this description, so that in the end, we can come up with a set of statements (and hopefully requirements) about how a FAPESP funded space project looks like."
   ]
  },
  {
   "cell_type": "markdown",
   "id": "6c4439d2",
   "metadata": {},
   "source": [
    "To make the next graphics more eye-pleasing, I'll let seaborn set the layout for the following visualizations"
   ]
  },
  {
   "cell_type": "code",
   "execution_count": 12,
   "id": "997bc24f",
   "metadata": {},
   "outputs": [],
   "source": [
    "sns.set_theme()"
   ]
  },
  {
   "cell_type": "markdown",
   "id": "d4d23889",
   "metadata": {},
   "source": [
    "## How many projects each company was doing?"
   ]
  },
  {
   "cell_type": "markdown",
   "id": "cc0b9c8a",
   "metadata": {},
   "source": [
    "The first thing that came in to mind was to check how many projects companies did througout the time-span of the analysis. We can get this value if we count the number of projects each company did"
   ]
  },
  {
   "cell_type": "code",
   "execution_count": 13,
   "id": "a9dd915d",
   "metadata": {},
   "outputs": [
    {
     "data": {
      "text/plain": [
       "Cron Sistemas e Tecnologias Ltda. - EPP                  6\n",
       "Fibraforte Engenharia Indústria e Comércio Ltda          6\n",
       "Opto Tecnologia Optrônica Ltda                           5\n",
       "Orbital Engenharia S/A                                   5\n",
       "Guatifer Usinagem e Ferramentaria Ltda (Guatifer)        4\n",
       "Essado de Morais Ltda. - ME                              3\n",
       "Navcon Navegação e Controle Indústria e Comércio Ltda    2\n",
       "Proqualit Telecon Ltda                                   2\n",
       "Beta Telecom Consultoria e Comércio Ltda                 2\n",
       "Geomap Ltda                                              2\n",
       "Name: Entidade, dtype: int64"
      ]
     },
     "execution_count": 13,
     "metadata": {},
     "output_type": "execute_result"
    }
   ],
   "source": [
    "space_projects['Entidade'].value_counts().head(10)"
   ]
  },
  {
   "cell_type": "markdown",
   "id": "3527d787",
   "metadata": {},
   "source": [
    "And now we count how many companies executes each number of projects"
   ]
  },
  {
   "cell_type": "code",
   "execution_count": 14,
   "id": "5af38134",
   "metadata": {},
   "outputs": [
    {
     "data": {
      "text/plain": [
       "1    25\n",
       "2    15\n",
       "3     1\n",
       "4     1\n",
       "5     2\n",
       "6     2\n",
       "Name: Entidade, dtype: int64"
      ]
     },
     "execution_count": 14,
     "metadata": {},
     "output_type": "execute_result"
    }
   ],
   "source": [
    "space_projects['Entidade'].value_counts().value_counts().sort_index()"
   ]
  },
  {
   "cell_type": "markdown",
   "id": "90a8ae87",
   "metadata": {},
   "source": [
    "Let's plot for better visualization"
   ]
  },
  {
   "cell_type": "code",
   "execution_count": 15,
   "id": "04b58644",
   "metadata": {
    "scrolled": false
   },
   "outputs": [
    {
     "data": {
      "image/png": "[encoded data removed]",
      "text/plain": [
       "<Figure size 1000x500 with 1 Axes>"
      ]
     },
     "metadata": {},
     "output_type": "display_data"
    }
   ],
   "source": [
    "plt.figure(figsize=(10,5))\n",
    "plt.title('How many projects companies were doing?', fontsize=15)\n",
    "plt.grid(linestyle='-', linewidth=1)\n",
    "plt.xlabel('Number of Projects', fontsize=11)\n",
    "plt.ylabel('Companies', fontsize=11)\n",
    "space_projects['Entidade'].value_counts().value_counts().sort_index().plot(kind='bar',\n",
    "                                                                           color='orange',\n",
    "                                                                           rot=0,\n",
    "                                                                           fontsize=13)\n",
    "for i, n in enumerate(space_projects['Entidade'].value_counts().value_counts().sort_index()):\n",
    "    plt.text(i,n+0.25,n)\n",
    "\n",
    "plt.show()"
   ]
  },
  {
   "cell_type": "markdown",
   "id": "6b3ba069",
   "metadata": {},
   "source": [
    "From the start we can tell that the vast majority of companies are granted funds to 1 or 2 projects, almost 86% of them. That information on its own can't tell us much about the projects, but it is something to start paint the whole picture of the situation regarding these funds. Companies tend to no be funded by FAPESP for more than 2 projects."
   ]
  },
  {
   "cell_type": "markdown",
   "id": "00ca96d4",
   "metadata": {},
   "source": [
    "## How long does the projects last?"
   ]
  },
  {
   "cell_type": "markdown",
   "id": "7818936e",
   "metadata": {},
   "source": [
    "Another important caracteristic about the projects are their duration, how much time the company will spend invested on it. Let's work on it. Since we're talking about technology development projects, I'll set the time parameter in months (comercial, 30 days) so we can better visualize the results."
   ]
  },
  {
   "cell_type": "code",
   "execution_count": 16,
   "id": "88dda987",
   "metadata": {},
   "outputs": [],
   "source": [
    "project_duration = space_projects['Data de Término'] - space_projects['Data de Início']\n",
    "project_duration = project_duration/pd.Timedelta(days=30)"
   ]
  },
  {
   "cell_type": "markdown",
   "id": "ca307c07",
   "metadata": {},
   "source": [
    "Let's first check some measures of central tendency that can tell us about the distribution of time duration of the projects"
   ]
  },
  {
   "cell_type": "code",
   "execution_count": 17,
   "id": "42efc267",
   "metadata": {},
   "outputs": [
    {
     "data": {
      "text/plain": [
       "count    84.000000\n",
       "mean     23.502778\n",
       "std      15.433041\n",
       "min       6.000000\n",
       "25%       9.100000\n",
       "50%      24.300000\n",
       "75%      30.683333\n",
       "max      87.233333\n",
       "dtype: float64"
      ]
     },
     "execution_count": 17,
     "metadata": {},
     "output_type": "execute_result"
    }
   ],
   "source": [
    "project_duration.describe()"
   ]
  },
  {
   "cell_type": "markdown",
   "id": "641ba2eb",
   "metadata": {},
   "source": [
    "Those numbers can already tell something: The projects usually are short-timed, 75% ranging from 6 months up to 2 years and a half. That is a good hint: The development of new technology must be accelerated, following the global trend of dynamization of the space industry. It seems that FAPESP rewards those companies which can manage their ambitious and deliver results faster, than those who take longer. "
   ]
  },
  {
   "cell_type": "markdown",
   "id": "8ba29ac5",
   "metadata": {},
   "source": [
    "We can continue by plotting a boxplot to have an idea about the distribution of that variable."
   ]
  },
  {
   "cell_type": "code",
   "execution_count": 29,
   "id": "23992ec5",
   "metadata": {
    "scrolled": false
   },
   "outputs": [
    {
     "data": {
      "image/png": "[encoded data removed]",
      "text/plain": [
       "<Figure size 1200x500 with 1 Axes>"
      ]
     },
     "metadata": {},
     "output_type": "display_data"
    }
   ],
   "source": [
    "plt.figure(figsize=(12,5))\n",
    "sns.boxplot(x=project_duration,orient='h')\n",
    "plt.title('Duration in months', fontsize = 15)\n",
    "plt.show()"
   ]
  },
  {
   "cell_type": "markdown",
   "id": "043ee060",
   "metadata": {},
   "source": [
    "That is interesting. As we can see from the boxplot above, most projects are no longer than 30 months. This may indicate a preference for shorter timespans by FAPESP, which can suggest that proposing projects to be executed in less than 30 and a few months increases the likehood of it being funded."
   ]
  },
  {
   "cell_type": "markdown",
   "id": "cc45e975",
   "metadata": {},
   "source": [
    "Let's plot the histogram for this distribution, and let's define the intervals being years (12 month lenght)"
   ]
  },
  {
   "cell_type": "code",
   "execution_count": 28,
   "id": "4652ec80",
   "metadata": {},
   "outputs": [
    {
     "data": {
      "image/png": "[encoded data removed]",
      "text/plain": [
       "<Figure size 1000x500 with 1 Axes>"
      ]
     },
     "metadata": {},
     "output_type": "display_data"
    }
   ],
   "source": [
    "plt.figure(figsize=(10,5))\n",
    "sns.histplot(project_duration, bins=[12*i for i in range(9)])\n",
    "plt.xticks([12*i for i in range(9)])\n",
    "plt.title('Histogram of Project Duration', fontsize=15)\n",
    "plt.show()"
   ]
  },
  {
   "cell_type": "markdown",
   "id": "7c41d9ca",
   "metadata": {},
   "source": [
    "Now it becames clearer now the most commom timespan for projects are up to 1 year and between 2-3 years."
   ]
  },
  {
   "cell_type": "markdown",
   "id": "60dbbc1e",
   "metadata": {},
   "source": [
    "## Projects Begining and Ending dates by Year"
   ]
  },
  {
   "cell_type": "markdown",
   "id": "7a5e4829",
   "metadata": {},
   "source": [
    "Now, it's interesting to see how those projects are distributed over time. I'll start plotting their years of start and end, to see if we can spot any behaviour that FAPESP funding might reveal."
   ]
  },
  {
   "cell_type": "code",
   "execution_count": 20,
   "id": "3deb3917",
   "metadata": {},
   "outputs": [],
   "source": [
    "years_start_and_end = pd.DataFrame(index=[*range(1998,2024)])"
   ]
  },
  {
   "cell_type": "code",
   "execution_count": 21,
   "id": "f065ec1c",
   "metadata": {},
   "outputs": [],
   "source": [
    "start_date = space_projects['Data de Início'].apply(lambda x: x.year).value_counts()\n",
    "end_date = space_projects['Data de Término'].apply(lambda x: x.year).value_counts()"
   ]
  },
  {
   "cell_type": "code",
   "execution_count": 22,
   "id": "e83d4bda",
   "metadata": {},
   "outputs": [],
   "source": [
    "years_start_and_end = years_start_and_end.join(start_date)\n",
    "years_start_and_end = years_start_and_end.join(end_date)"
   ]
  },
  {
   "cell_type": "code",
   "execution_count": 23,
   "id": "3538bbd1",
   "metadata": {},
   "outputs": [
    {
     "data": {
      "image/png": "[encoded data removed]",
      "text/plain": [
       "<Figure size 1500x500 with 1 Axes>"
      ]
     },
     "metadata": {},
     "output_type": "display_data"
    }
   ],
   "source": [
    "years_start_and_end.plot.bar(figsize=(15,5), rot=45, width=0.7)\n",
    "plt.legend(fontsize=15)\n",
    "plt.show()"
   ]
  },
  {
   "cell_type": "markdown",
   "id": "a469e592",
   "metadata": {},
   "source": [
    "**(TERMINAR ESSE TEXTO)**\n",
    "\n",
    "From 1998 to 2013 there was no more than 4 space projects started each year, and for two consecutive years after that, there were **no projects** related to core space technology funded by FAPESP, in 2014 and 2015. "
   ]
  },
  {
   "cell_type": "markdown",
   "id": "0523500a",
   "metadata": {},
   "source": [
    "From 2016 on, there was a resurgence of space related projects, reaching its all time high of 13 projects in 2018. The relative recovery from the economic downturn experienced in the past years may have pumped those numbers up. Since FAPESP is a public institution and relies in the govermental budget allocated to it to function, "
   ]
  },
  {
   "cell_type": "markdown",
   "id": "060a0a56",
   "metadata": {},
   "source": [
    "## Partneship Agreements influence the number of projects done?"
   ]
  },
  {
   "cell_type": "markdown",
   "id": "37e564a9",
   "metadata": {},
   "source": [
    "The"
   ]
  },
  {
   "cell_type": "code",
   "execution_count": 30,
   "id": "d8c6acd0",
   "metadata": {},
   "outputs": [
    {
     "name": "stdout",
     "output_type": "stream",
     "text": [
      "<class 'pandas.core.frame.DataFrame'>\n",
      "RangeIndex: 84 entries, 0 to 83\n",
      "Data columns (total 32 columns):\n",
      " #   Column                                            Non-Null Count  Dtype         \n",
      "---  ------                                            --------------  -----         \n",
      " 0   N. Processo                                       84 non-null     object        \n",
      " 1   Título (Português)                                84 non-null     object        \n",
      " 2   Título (Inglês)                                   70 non-null     object        \n",
      " 3   Beneficiário                                      84 non-null     object        \n",
      " 4   Instituição                                       0 non-null      float64       \n",
      " 5   Cidade Instituição                                0 non-null      float64       \n",
      " 6   Instituição Parceira                              17 non-null     object        \n",
      " 7   Empresa                                           67 non-null     object        \n",
      " 8   Município                                         67 non-null     object        \n",
      " 9   Pesquisador Responsável                           84 non-null     object        \n",
      " 10  Pesquisadores Principais                          9 non-null      object        \n",
      " 11  Pesquisadores Associados                          13 non-null     object        \n",
      " 12  Supervisor                                        0 non-null      float64       \n",
      " 13  Local de Pesquisa                                 0 non-null      float64       \n",
      " 14  Pesquisador Visitante                             0 non-null      float64       \n",
      " 15  Instituição do Pesquisador Visitante              0 non-null      float64       \n",
      " 16  Linha de Fomento                                  84 non-null     object        \n",
      " 17  Grande Área do Conhecimento                       84 non-null     object        \n",
      " 18  Área do Conhecimento                              82 non-null     object        \n",
      " 19  Subárea do Conhecimento                           76 non-null     object        \n",
      " 20  Assuntos                                          84 non-null     object        \n",
      " 21  Data de Início                                    84 non-null     datetime64[ns]\n",
      " 22  Data de Término                                   84 non-null     datetime64[ns]\n",
      " 23  Acordo(s)/Convênio(s) de Cooperação com a FAPESP  21 non-null     object        \n",
      " 24  Instituições no Exterior                          2 non-null      object        \n",
      " 25  País (Instituições no Exterior)                   2 non-null      object        \n",
      " 26  Pesquisador responsável no exterior               2 non-null      object        \n",
      " 27  Resumo (Português)                                83 non-null     object        \n",
      " 28  Resumo (Inglês)                                   58 non-null     object        \n",
      " 29  Processos Vinculados                              33 non-null     object        \n",
      " 30  Unnamed: 30                                       84 non-null     object        \n",
      " 31  Entidade                                          84 non-null     object        \n",
      "dtypes: datetime64[ns](2), float64(6), object(24)\n",
      "memory usage: 21.1+ KB\n"
     ]
    }
   ],
   "source": [
    "space_projects.info()"
   ]
  },
  {
   "cell_type": "code",
   "execution_count": 136,
   "id": "c73420c6",
   "metadata": {},
   "outputs": [],
   "source": [
    "a = zip(space_projects['Linha de Fomento'], \n",
    "        space_projects['Acordo(s)/Convênio(s) de Cooperação com a FAPESP'],\n",
    "        space_projects['Data de Início'].apply(lambda x: x.year))"
   ]
  },
  {
   "cell_type": "code",
   "execution_count": 137,
   "id": "b0c7a527",
   "metadata": {},
   "outputs": [],
   "source": [
    "from collections import Counter\n",
    "\n",
    "counted = Counter(list(a))"
   ]
  },
  {
   "cell_type": "code",
   "execution_count": 138,
   "id": "3d67e5a1",
   "metadata": {},
   "outputs": [],
   "source": [
    "lista_a = list(space_projects['Linha de Fomento'].unique())+list(space_projects['Acordo(s)/Convênio(s) de Cooperação com a FAPESP'].unique())"
   ]
  },
  {
   "cell_type": "code",
   "execution_count": 143,
   "id": "826be489",
   "metadata": {},
   "outputs": [],
   "source": [
    "b = pd.DataFrame(columns=lista_a)\n",
    "                 #index=[*range(1998,2023)])\n",
    "\n",
    "for project, frequency in counted.items():\n",
    "    project_type, partnership, year = project\n",
    "    if pd.isna(partnership):\n",
    "        b.loc[year,project_type] = frequency\n",
    "        continue\n",
    "    b.loc[year,partnership] = frequency\n",
    "    \n",
    "    "
   ]
  },
  {
   "cell_type": "code",
   "execution_count": 141,
   "id": "8a5f4c2c",
   "metadata": {},
   "outputs": [
    {
     "data": {
      "text/plain": [
       "<AxesSubplot:>"
      ]
     },
     "execution_count": 141,
     "metadata": {},
     "output_type": "execute_result"
    },
    {
     "data": {
      "image/png": "[encoded data removed]",
      "text/plain": [
       "<Figure size 1500x800 with 1 Axes>"
      ]
     },
     "metadata": {},
     "output_type": "display_data"
    }
   ],
   "source": [
    "b.fillna(0).plot(kind='bar', stacked=True, figsize=(15,8))"
   ]
  },
  {
   "cell_type": "code",
   "execution_count": null,
   "id": "cc5c4184",
   "metadata": {},
   "outputs": [],
   "source": []
  },
  {
   "cell_type": "code",
   "execution_count": 57,
   "id": "0ff5315d",
   "metadata": {},
   "outputs": [
    {
     "data": {
      "text/plain": [
       "[]"
      ]
     },
     "execution_count": 57,
     "metadata": {},
     "output_type": "execute_result"
    }
   ],
   "source": [
    "list(a)"
   ]
  },
  {
   "cell_type": "code",
   "execution_count": null,
   "id": "3a7929d0",
   "metadata": {},
   "outputs": [],
   "source": []
  }
 ],
 "metadata": {
  "kernelspec": {
   "display_name": "Python 3 (ipykernel)",
   "language": "python",
   "name": "python3"
  },
  "language_info": {
   "codemirror_mode": {
    "name": "ipython",
    "version": 3
   },
   "file_extension": ".py",
   "mimetype": "text/x-python",
   "name": "python",
   "nbconvert_exporter": "python",
   "pygments_lexer": "ipython3",
   "version": "3.9.7"
  }
 },
 "nbformat": 4,
 "nbformat_minor": 5
}
